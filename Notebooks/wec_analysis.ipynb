{
 "cells": [
  {
   "cell_type": "markdown",
   "metadata": {},
   "source": [
    "## **World Endurance Championship 2012-2023 + Le Mans 2011 Analysis Walktrough**\n",
    "\n",
    "##### In this notebook, we will analyse different aspects of the [FIA WEC season from 2012-2023 and Le Mans 2011 Race](https://www.kaggle.com/datasets/feliperoll/fia-wec-2012-2023-le-mans-2011) as a bonus.\n",
    "##### A few changes were made to the original database:\n",
    "\n",
    "* [Preparing the Dataset and Data Cleaning](#Preparing-the-Dataset-and-Data-Cleaning)\n",
    "    * [Importing packages](#Importing-all-necessary-packages)\n",
    "    * [Importing data](#Importing-the-data)\n",
    "    * [Observing our data](#Observing-our-data)\n",
    "    * [Renaming values](#Renaming-a-few-values)\n",
    "    * [Dropping Columns](#Dropping-a-few-columns-we-won't-use)\n",
    "    * [Filling missing values](#Filling-missing-values)\n",
    "    * [Saving the dataset](#Saving-the-cleaned-file-as-a-new-dataset)\n",
    "* [Exploratory Analysis on Tyre Manufacturers](#Now-that-we-don't-have-missing-values,-let's-make-some-analysis-on-the-tyre-manufacturers)\n",
    "    * [2017 Season - LMGTE](#Let's-take-a-look-at-the-performance-of-Michelin-and-Dunlop-in-2017-for-both-LMGTE-classes)\n",
    "    * [2018-2019 Season - LMP2](#Let's-take-a-look-at-the-number-of-race-wins-of-Michelin-and-Dunlop-in-2018-2019-for-the-LMP2-class)\n",
    "    * [Tyre Manufacturer analysis](####Here-we-gather-the-total-number-of-times-each-tyre-manufacturer-participated-in-a-class-on-all-seasons)\n",
    "* [Exploratory analysis on car performances](#Comparing-data-between-cars)\n",
    "***\n"
   ]
  },
  {
   "cell_type": "markdown",
   "metadata": {},
   "source": [
    "#### **Preparing the Dataset and Data Cleaning**"
   ]
  },
  {
   "cell_type": "markdown",
   "metadata": {
    "tags": []
   },
   "source": [
    "##### **Importing all necessary packages**"
   ]
  },
  {
   "cell_type": "code",
   "execution_count": 1226,
   "metadata": {},
   "outputs": [],
   "source": [
    "%matplotlib inline\n",
    "import pandas as pd\n",
    "import matplotlib.pyplot as plt\n",
    "import seaborn as sns\n",
    "from ydata_profiling import ProfileReport"
   ]
  },
  {
   "cell_type": "markdown",
   "metadata": {},
   "source": [
    "##### **Importing the data**"
   ]
  },
  {
   "cell_type": "code",
   "execution_count": 1227,
   "metadata": {},
   "outputs": [],
   "source": [
    "#loading the data from wec_data.csv\n",
    "wec_analysis = pd.read_csv('C:\\Data Science\\Projetos\\wec-analysis\\Datasets\\wec_data.csv', sep=',')"
   ]
  },
  {
   "cell_type": "markdown",
   "metadata": {},
   "source": [
    "##### **Observing our data**\n",
    "\n"
   ]
  },
  {
   "cell_type": "code",
   "execution_count": 1228,
   "metadata": {},
   "outputs": [
    {
     "name": "stdout",
     "output_type": "stream",
     "text": [
      "<class 'pandas.core.frame.DataFrame'>\n",
      "RangeIndex: 3035 entries, 0 to 3034\n",
      "Data columns (total 22 columns):\n",
      " #   Column            Non-Null Count  Dtype  \n",
      "---  ------            --------------  -----  \n",
      " 0   car               3035 non-null   object \n",
      " 1   overall_position  3035 non-null   int64  \n",
      " 2   class_position    3035 non-null   int64  \n",
      " 3   team              3035 non-null   object \n",
      " 4   vehicle           3035 non-null   object \n",
      " 5   class             3035 non-null   object \n",
      " 6   group             428 non-null    object \n",
      " 7   race              3035 non-null   object \n",
      " 8   event_duration    3035 non-null   int64  \n",
      " 9   season            3035 non-null   object \n",
      " 10  laps              3035 non-null   int64  \n",
      " 11  total_time        3026 non-null   object \n",
      " 12  gap_first         2948 non-null   object \n",
      " 13  gap_car_ahead     2946 non-null   object \n",
      " 14  tyres             3035 non-null   object \n",
      " 15  status            3035 non-null   object \n",
      " 16  fl_lap_number     3022 non-null   float64\n",
      " 17  fl_time           3022 non-null   object \n",
      " 18  fl_kph_average    3022 non-null   float64\n",
      " 19  driver_1          3035 non-null   object \n",
      " 20  driver_2          3035 non-null   object \n",
      " 21  driver_3          2602 non-null   object \n",
      "dtypes: float64(2), int64(4), object(16)\n",
      "memory usage: 521.8+ KB\n"
     ]
    }
   ],
   "source": [
    "#taking a look at the database\n",
    "wec_analysis.info()"
   ]
  },
  {
   "cell_type": "code",
   "execution_count": 1229,
   "metadata": {},
   "outputs": [
    {
     "data": {
      "text/html": [
       "<div>\n",
       "<style scoped>\n",
       "    .dataframe tbody tr th:only-of-type {\n",
       "        vertical-align: middle;\n",
       "    }\n",
       "\n",
       "    .dataframe tbody tr th {\n",
       "        vertical-align: top;\n",
       "    }\n",
       "\n",
       "    .dataframe thead th {\n",
       "        text-align: right;\n",
       "    }\n",
       "</style>\n",
       "<table border=\"1\" class=\"dataframe\">\n",
       "  <thead>\n",
       "    <tr style=\"text-align: right;\">\n",
       "      <th></th>\n",
       "      <th>car</th>\n",
       "      <th>overall_position</th>\n",
       "      <th>class_position</th>\n",
       "      <th>team</th>\n",
       "      <th>vehicle</th>\n",
       "      <th>class</th>\n",
       "      <th>group</th>\n",
       "      <th>race</th>\n",
       "      <th>event_duration</th>\n",
       "      <th>season</th>\n",
       "      <th>...</th>\n",
       "      <th>gap_first</th>\n",
       "      <th>gap_car_ahead</th>\n",
       "      <th>tyres</th>\n",
       "      <th>status</th>\n",
       "      <th>fl_lap_number</th>\n",
       "      <th>fl_time</th>\n",
       "      <th>fl_kph_average</th>\n",
       "      <th>driver_1</th>\n",
       "      <th>driver_2</th>\n",
       "      <th>driver_3</th>\n",
       "    </tr>\n",
       "  </thead>\n",
       "  <tbody>\n",
       "    <tr>\n",
       "      <th>2072</th>\n",
       "      <td>Porsche GT Team #91</td>\n",
       "      <td>19</td>\n",
       "      <td>5</td>\n",
       "      <td>Porsche GT Team</td>\n",
       "      <td>Porsche 911 RSR - 19</td>\n",
       "      <td>LMGTE Pro</td>\n",
       "      <td>NaN</td>\n",
       "      <td>Monza</td>\n",
       "      <td>6</td>\n",
       "      <td>2022</td>\n",
       "      <td>...</td>\n",
       "      <td>14 Laps</td>\n",
       "      <td>1 Laps</td>\n",
       "      <td>Michelin</td>\n",
       "      <td>Classified</td>\n",
       "      <td>5.0</td>\n",
       "      <td>1:46.957</td>\n",
       "      <td>195.0</td>\n",
       "      <td>Gianmaria BRUNI</td>\n",
       "      <td>Frédéric MAKOWIECKI</td>\n",
       "      <td>NaN</td>\n",
       "    </tr>\n",
       "    <tr>\n",
       "      <th>1274</th>\n",
       "      <td>Toyota Gazoo Racing #8</td>\n",
       "      <td>1</td>\n",
       "      <td>1</td>\n",
       "      <td>Toyota Gazoo Racing</td>\n",
       "      <td>Toyota TS050 - Hybrid</td>\n",
       "      <td>LMP1</td>\n",
       "      <td>H</td>\n",
       "      <td>LeMans 2</td>\n",
       "      <td>24</td>\n",
       "      <td>2018-2019</td>\n",
       "      <td>...</td>\n",
       "      <td>NaN</td>\n",
       "      <td>NaN</td>\n",
       "      <td>Michelin</td>\n",
       "      <td>Classified</td>\n",
       "      <td>4.0</td>\n",
       "      <td>3:18.397</td>\n",
       "      <td>247.2</td>\n",
       "      <td>Sébastien BUEMI</td>\n",
       "      <td>Kazuki NAKAJIMA</td>\n",
       "      <td>Fernando ALONSO</td>\n",
       "    </tr>\n",
       "    <tr>\n",
       "      <th>2349</th>\n",
       "      <td>Team WRT #41</td>\n",
       "      <td>13</td>\n",
       "      <td>3</td>\n",
       "      <td>Team WRT</td>\n",
       "      <td>Oreca 07 - Gibson</td>\n",
       "      <td>LMP2</td>\n",
       "      <td>NaN</td>\n",
       "      <td>Monza</td>\n",
       "      <td>6</td>\n",
       "      <td>2023</td>\n",
       "      <td>...</td>\n",
       "      <td>8 Laps</td>\n",
       "      <td>5.757</td>\n",
       "      <td>Goodyear</td>\n",
       "      <td>Classified</td>\n",
       "      <td>151.0</td>\n",
       "      <td>1:40.957</td>\n",
       "      <td>206.6</td>\n",
       "      <td>Rui ANDRADE</td>\n",
       "      <td>Robert KUBICA</td>\n",
       "      <td>Louis DELÉTRAZ</td>\n",
       "    </tr>\n",
       "  </tbody>\n",
       "</table>\n",
       "<p>3 rows × 22 columns</p>\n",
       "</div>"
      ],
      "text/plain": [
       "                         car  overall_position  class_position  \\\n",
       "2072     Porsche GT Team #91                19               5   \n",
       "1274  Toyota Gazoo Racing #8                 1               1   \n",
       "2349            Team WRT #41                13               3   \n",
       "\n",
       "                     team                vehicle      class group      race  \\\n",
       "2072      Porsche GT Team   Porsche 911 RSR - 19  LMGTE Pro   NaN     Monza   \n",
       "1274  Toyota Gazoo Racing  Toyota TS050 - Hybrid       LMP1     H  LeMans 2   \n",
       "2349             Team WRT      Oreca 07 - Gibson       LMP2   NaN     Monza   \n",
       "\n",
       "      event_duration     season  ...  gap_first gap_car_ahead     tyres  \\\n",
       "2072               6       2022  ...    14 Laps        1 Laps  Michelin   \n",
       "1274              24  2018-2019  ...        NaN           NaN  Michelin   \n",
       "2349               6       2023  ...     8 Laps         5.757  Goodyear   \n",
       "\n",
       "          status fl_lap_number   fl_time  fl_kph_average         driver_1  \\\n",
       "2072  Classified           5.0  1:46.957           195.0  Gianmaria BRUNI   \n",
       "1274  Classified           4.0  3:18.397           247.2  Sébastien BUEMI   \n",
       "2349  Classified         151.0  1:40.957           206.6      Rui ANDRADE   \n",
       "\n",
       "                 driver_2         driver_3  \n",
       "2072  Frédéric MAKOWIECKI              NaN  \n",
       "1274      Kazuki NAKAJIMA  Fernando ALONSO  \n",
       "2349        Robert KUBICA   Louis DELÉTRAZ  \n",
       "\n",
       "[3 rows x 22 columns]"
      ]
     },
     "execution_count": 1229,
     "metadata": {},
     "output_type": "execute_result"
    }
   ],
   "source": [
    "#taking a look at the database\n",
    "wec_analysis.sample(3)"
   ]
  },
  {
   "cell_type": "code",
   "execution_count": 1230,
   "metadata": {},
   "outputs": [],
   "source": [
    "#using ydata profiling for another more in depth visualization\n",
    "#profile = ProfileReport(wec_analysis, title=\"Wec Analysis\")\n",
    "#profile.to_file(\"wec-analysis.html\")"
   ]
  },
  {
   "cell_type": "markdown",
   "metadata": {},
   "source": [
    "##### **Renaming a few values**"
   ]
  },
  {
   "cell_type": "code",
   "execution_count": 1231,
   "metadata": {},
   "outputs": [
    {
     "data": {
      "text/plain": [
       "array(['LMP1', 'LMP2', 'LMGTE Pro', 'LMGTE Am', 'CDNT'], dtype=object)"
      ]
     },
     "execution_count": 1231,
     "metadata": {},
     "output_type": "execute_result"
    }
   ],
   "source": [
    "# Mapping for renaming classes\n",
    "class_mapping = {\n",
    "    'LM P1': 'LMP1',\n",
    "    'LM P2': 'LMP2',\n",
    "    'LM GTE Pro': 'LMGTE Pro',\n",
    "    'LM GTE Am': 'LMGTE Am'\n",
    "}\n",
    "\n",
    "# Renaming classes\n",
    "wec_analysis['class'] = wec_analysis['class'].replace(class_mapping)\n",
    "unique_classes_2012 = wec_analysis[wec_analysis['season'] == '2012']['class'].unique()\n",
    "unique_classes_2012"
   ]
  },
  {
   "cell_type": "markdown",
   "metadata": {},
   "source": [
    "##### **Dropping a few columns we won't use**"
   ]
  },
  {
   "cell_type": "code",
   "execution_count": 1232,
   "metadata": {},
   "outputs": [
    {
     "data": {
      "text/plain": [
       "array(['H', 'L', nan, 'P/A'], dtype=object)"
      ]
     },
     "execution_count": 1232,
     "metadata": {},
     "output_type": "execute_result"
    }
   ],
   "source": [
    "#displaying the unique values in the 'group' column \n",
    "wec_analysis['group'].unique()"
   ]
  },
  {
   "cell_type": "code",
   "execution_count": 1233,
   "metadata": {},
   "outputs": [],
   "source": [
    "#dropping the columns driver_1, driver_2, and driver_3 abd group\n",
    "wec_analysis.drop(['driver_1', 'driver_2', 'driver_3','group'], axis=1, inplace=True)"
   ]
  },
  {
   "cell_type": "markdown",
   "metadata": {},
   "source": [
    "##### **Taking a look at the missing values and fixing them**"
   ]
  },
  {
   "cell_type": "code",
   "execution_count": 1234,
   "metadata": {},
   "outputs": [
    {
     "data": {
      "text/html": [
       "<div>\n",
       "<style scoped>\n",
       "    .dataframe tbody tr th:only-of-type {\n",
       "        vertical-align: middle;\n",
       "    }\n",
       "\n",
       "    .dataframe tbody tr th {\n",
       "        vertical-align: top;\n",
       "    }\n",
       "\n",
       "    .dataframe thead th {\n",
       "        text-align: right;\n",
       "    }\n",
       "</style>\n",
       "<table border=\"1\" class=\"dataframe\">\n",
       "  <thead>\n",
       "    <tr style=\"text-align: right;\">\n",
       "      <th></th>\n",
       "      <th>car</th>\n",
       "      <th>overall_position</th>\n",
       "      <th>class_position</th>\n",
       "      <th>team</th>\n",
       "      <th>vehicle</th>\n",
       "      <th>class</th>\n",
       "      <th>race</th>\n",
       "      <th>event_duration</th>\n",
       "      <th>season</th>\n",
       "      <th>laps</th>\n",
       "      <th>total_time</th>\n",
       "      <th>gap_first</th>\n",
       "      <th>gap_car_ahead</th>\n",
       "      <th>tyres</th>\n",
       "      <th>status</th>\n",
       "      <th>fl_lap_number</th>\n",
       "      <th>fl_time</th>\n",
       "      <th>fl_kph_average</th>\n",
       "    </tr>\n",
       "  </thead>\n",
       "  <tbody>\n",
       "    <tr>\n",
       "      <th>971</th>\n",
       "      <td>Porsche LMP Team #2</td>\n",
       "      <td>1</td>\n",
       "      <td>1</td>\n",
       "      <td>Porsche LMP Team</td>\n",
       "      <td>Porsche 919 Hybrid</td>\n",
       "      <td>LMP1</td>\n",
       "      <td>Nurburgring</td>\n",
       "      <td>6</td>\n",
       "      <td>2017</td>\n",
       "      <td>204</td>\n",
       "      <td>6:00:09.607</td>\n",
       "      <td>NaN</td>\n",
       "      <td>NaN</td>\n",
       "      <td>Michelin</td>\n",
       "      <td>Classified</td>\n",
       "      <td>6.0</td>\n",
       "      <td>1:40.882</td>\n",
       "      <td>183.3</td>\n",
       "    </tr>\n",
       "    <tr>\n",
       "      <th>245</th>\n",
       "      <td>Audi Sport Team Joest #7</td>\n",
       "      <td>1</td>\n",
       "      <td>1</td>\n",
       "      <td>Audi Sport Team Joest</td>\n",
       "      <td>Audi R18 e-tron quattro</td>\n",
       "      <td>LMP1</td>\n",
       "      <td>Silverstone</td>\n",
       "      <td>6</td>\n",
       "      <td>2015</td>\n",
       "      <td>201</td>\n",
       "      <td>6:00:30.876</td>\n",
       "      <td>NaN</td>\n",
       "      <td>NaN</td>\n",
       "      <td>Michelin</td>\n",
       "      <td>Classified</td>\n",
       "      <td>26.0</td>\n",
       "      <td>1:40.836</td>\n",
       "      <td>210.7</td>\n",
       "    </tr>\n",
       "    <tr>\n",
       "      <th>1214</th>\n",
       "      <td>Toyota Gazoo Racing #8</td>\n",
       "      <td>1</td>\n",
       "      <td>1</td>\n",
       "      <td>Toyota Gazoo Racing</td>\n",
       "      <td>Toyota TS050 - Hybrid</td>\n",
       "      <td>LMP1</td>\n",
       "      <td>LeMans</td>\n",
       "      <td>24</td>\n",
       "      <td>2018-2019</td>\n",
       "      <td>388</td>\n",
       "      <td>24:00:52.247</td>\n",
       "      <td>NaN</td>\n",
       "      <td>NaN</td>\n",
       "      <td>Michelin</td>\n",
       "      <td>Classified</td>\n",
       "      <td>5.0</td>\n",
       "      <td>3:17.658</td>\n",
       "      <td>248.2</td>\n",
       "    </tr>\n",
       "  </tbody>\n",
       "</table>\n",
       "</div>"
      ],
      "text/plain": [
       "                           car  overall_position  class_position  \\\n",
       "971        Porsche LMP Team #2                 1               1   \n",
       "245   Audi Sport Team Joest #7                 1               1   \n",
       "1214    Toyota Gazoo Racing #8                 1               1   \n",
       "\n",
       "                       team                  vehicle class         race  \\\n",
       "971        Porsche LMP Team       Porsche 919 Hybrid  LMP1  Nurburgring   \n",
       "245   Audi Sport Team Joest  Audi R18 e-tron quattro  LMP1  Silverstone   \n",
       "1214    Toyota Gazoo Racing    Toyota TS050 - Hybrid  LMP1       LeMans   \n",
       "\n",
       "      event_duration     season  laps    total_time gap_first gap_car_ahead  \\\n",
       "971                6       2017   204   6:00:09.607       NaN           NaN   \n",
       "245                6       2015   201   6:00:30.876       NaN           NaN   \n",
       "1214              24  2018-2019   388  24:00:52.247       NaN           NaN   \n",
       "\n",
       "         tyres      status  fl_lap_number   fl_time  fl_kph_average  \n",
       "971   Michelin  Classified            6.0  1:40.882           183.3  \n",
       "245   Michelin  Classified           26.0  1:40.836           210.7  \n",
       "1214  Michelin  Classified            5.0  3:17.658           248.2  "
      ]
     },
     "execution_count": 1234,
     "metadata": {},
     "output_type": "execute_result"
    }
   ],
   "source": [
    "#displaying rows with missing values in the 'gap_first' column in the wec_analysis DataFrame\n",
    "missing_gap_first = wec_analysis[wec_analysis['gap_first'].isnull()]\n",
    "missing_gap_first.sample(3)"
   ]
  },
  {
   "cell_type": "code",
   "execution_count": 1235,
   "metadata": {},
   "outputs": [],
   "source": [
    "#gap_first and gap_car_ahead are null because the car is in first position, let's fix that\n",
    "#filling missing values in 'gap_first' and 'gap_car_ahead' columns with 0\n",
    "wec_analysis['gap_first'].fillna(0, inplace=True)\n",
    "wec_analysis['gap_car_ahead'].fillna(0, inplace=True)"
   ]
  },
  {
   "cell_type": "code",
   "execution_count": 1236,
   "metadata": {},
   "outputs": [
    {
     "data": {
      "text/html": [
       "<div>\n",
       "<style scoped>\n",
       "    .dataframe tbody tr th:only-of-type {\n",
       "        vertical-align: middle;\n",
       "    }\n",
       "\n",
       "    .dataframe tbody tr th {\n",
       "        vertical-align: top;\n",
       "    }\n",
       "\n",
       "    .dataframe thead th {\n",
       "        text-align: right;\n",
       "    }\n",
       "</style>\n",
       "<table border=\"1\" class=\"dataframe\">\n",
       "  <thead>\n",
       "    <tr style=\"text-align: right;\">\n",
       "      <th></th>\n",
       "      <th>car</th>\n",
       "      <th>overall_position</th>\n",
       "      <th>class_position</th>\n",
       "      <th>team</th>\n",
       "      <th>vehicle</th>\n",
       "      <th>class</th>\n",
       "      <th>race</th>\n",
       "      <th>event_duration</th>\n",
       "      <th>season</th>\n",
       "      <th>laps</th>\n",
       "      <th>total_time</th>\n",
       "      <th>gap_first</th>\n",
       "      <th>gap_car_ahead</th>\n",
       "      <th>tyres</th>\n",
       "      <th>status</th>\n",
       "      <th>fl_lap_number</th>\n",
       "      <th>fl_time</th>\n",
       "      <th>fl_kph_average</th>\n",
       "    </tr>\n",
       "  </thead>\n",
       "  <tbody>\n",
       "    <tr>\n",
       "      <th>2771</th>\n",
       "      <td>Luxury Racing #58</td>\n",
       "      <td>28</td>\n",
       "      <td>7</td>\n",
       "      <td>Luxury Racing</td>\n",
       "      <td>Ferrari F458 Italia</td>\n",
       "      <td>LMGTE Am</td>\n",
       "      <td>Sebring</td>\n",
       "      <td>12</td>\n",
       "      <td>2012</td>\n",
       "      <td>0</td>\n",
       "      <td>NaN</td>\n",
       "      <td>325 Laps</td>\n",
       "      <td>83 Laps</td>\n",
       "      <td>Michelin</td>\n",
       "      <td>Not classified</td>\n",
       "      <td>NaN</td>\n",
       "      <td>NaN</td>\n",
       "      <td>NaN</td>\n",
       "    </tr>\n",
       "    <tr>\n",
       "      <th>243</th>\n",
       "      <td>KCMG #47</td>\n",
       "      <td>26</td>\n",
       "      <td>7</td>\n",
       "      <td>KCMG</td>\n",
       "      <td>Oreca 03R - Nissan</td>\n",
       "      <td>LMP2</td>\n",
       "      <td>Shanghai</td>\n",
       "      <td>6</td>\n",
       "      <td>2014</td>\n",
       "      <td>0</td>\n",
       "      <td>NaN</td>\n",
       "      <td>188 Laps</td>\n",
       "      <td>123 Laps</td>\n",
       "      <td>Dunlop</td>\n",
       "      <td>Not classified</td>\n",
       "      <td>NaN</td>\n",
       "      <td>NaN</td>\n",
       "      <td>NaN</td>\n",
       "    </tr>\n",
       "    <tr>\n",
       "      <th>803</th>\n",
       "      <td>Manor #45</td>\n",
       "      <td>31</td>\n",
       "      <td>10</td>\n",
       "      <td>Manor</td>\n",
       "      <td>Oreca 05 - Nissan</td>\n",
       "      <td>LMP2</td>\n",
       "      <td>Shanghai</td>\n",
       "      <td>6</td>\n",
       "      <td>2016</td>\n",
       "      <td>0</td>\n",
       "      <td>NaN</td>\n",
       "      <td>195 Laps</td>\n",
       "      <td>1 Laps</td>\n",
       "      <td>Dunlop</td>\n",
       "      <td>Not classified</td>\n",
       "      <td>NaN</td>\n",
       "      <td>NaN</td>\n",
       "      <td>NaN</td>\n",
       "    </tr>\n",
       "  </tbody>\n",
       "</table>\n",
       "</div>"
      ],
      "text/plain": [
       "                    car  overall_position  class_position           team  \\\n",
       "2771  Luxury Racing #58                28               7  Luxury Racing   \n",
       "243            KCMG #47                26               7           KCMG   \n",
       "803           Manor #45                31              10          Manor   \n",
       "\n",
       "                  vehicle     class      race  event_duration season  laps  \\\n",
       "2771  Ferrari F458 Italia  LMGTE Am   Sebring              12   2012     0   \n",
       "243    Oreca 03R - Nissan      LMP2  Shanghai               6   2014     0   \n",
       "803     Oreca 05 - Nissan      LMP2  Shanghai               6   2016     0   \n",
       "\n",
       "     total_time gap_first gap_car_ahead     tyres          status  \\\n",
       "2771        NaN  325 Laps       83 Laps  Michelin  Not classified   \n",
       "243         NaN  188 Laps      123 Laps    Dunlop  Not classified   \n",
       "803         NaN  195 Laps        1 Laps    Dunlop  Not classified   \n",
       "\n",
       "      fl_lap_number fl_time  fl_kph_average  \n",
       "2771            NaN     NaN             NaN  \n",
       "243             NaN     NaN             NaN  \n",
       "803             NaN     NaN             NaN  "
      ]
     },
     "execution_count": 1236,
     "metadata": {},
     "output_type": "execute_result"
    }
   ],
   "source": [
    "#displaying rows with missing values in the 'total_time' column \n",
    "missing_total_time = wec_analysis[wec_analysis['total_time'].isnull()]\n",
    "missing_total_time.sample(3)"
   ]
  },
  {
   "cell_type": "markdown",
   "metadata": {},
   "source": [
    "##### **Filling missing values**"
   ]
  },
  {
   "cell_type": "code",
   "execution_count": 1237,
   "metadata": {},
   "outputs": [],
   "source": [
    "#total_time, fl_lap_number,fl_time,fl_kph_average is null because some cars did not classify, did not start or retired from race, let's fix that\n",
    "#filling missing values in 'total_time', 'fl_lap_number', 'fl_time', and 'fl_kph_average' columns with 0 \n",
    "wec_analysis['total_time'].fillna(0, inplace=True)\n",
    "wec_analysis['fl_lap_number'].fillna(0, inplace=True)\n",
    "wec_analysis['fl_time'].fillna(0, inplace=True)\n",
    "wec_analysis['fl_kph_average'].fillna(0, inplace=True)"
   ]
  },
  {
   "cell_type": "code",
   "execution_count": 1238,
   "metadata": {},
   "outputs": [
    {
     "name": "stdout",
     "output_type": "stream",
     "text": [
      "<class 'pandas.core.frame.DataFrame'>\n",
      "RangeIndex: 3035 entries, 0 to 3034\n",
      "Data columns (total 18 columns):\n",
      " #   Column            Non-Null Count  Dtype  \n",
      "---  ------            --------------  -----  \n",
      " 0   car               3035 non-null   object \n",
      " 1   overall_position  3035 non-null   int64  \n",
      " 2   class_position    3035 non-null   int64  \n",
      " 3   team              3035 non-null   object \n",
      " 4   vehicle           3035 non-null   object \n",
      " 5   class             3035 non-null   object \n",
      " 6   race              3035 non-null   object \n",
      " 7   event_duration    3035 non-null   int64  \n",
      " 8   season            3035 non-null   object \n",
      " 9   laps              3035 non-null   int64  \n",
      " 10  total_time        3035 non-null   object \n",
      " 11  gap_first         3035 non-null   object \n",
      " 12  gap_car_ahead     3035 non-null   object \n",
      " 13  tyres             3035 non-null   object \n",
      " 14  status            3035 non-null   object \n",
      " 15  fl_lap_number     3035 non-null   float64\n",
      " 16  fl_time           3035 non-null   object \n",
      " 17  fl_kph_average    3035 non-null   float64\n",
      "dtypes: float64(2), int64(4), object(12)\n",
      "memory usage: 426.9+ KB\n"
     ]
    }
   ],
   "source": [
    "#taking a look at the updated database\n",
    "wec_analysis.info()"
   ]
  },
  {
   "cell_type": "markdown",
   "metadata": {},
   "source": [
    "##### **Saving the cleaned file as a new dataset**"
   ]
  },
  {
   "cell_type": "code",
   "execution_count": 1239,
   "metadata": {},
   "outputs": [],
   "source": [
    "# Save the wec_analysis DataFrame to a CSV file\n",
    "wec_analysis.to_csv('C:\\Data Science\\\\Projetos\\\\wec-analysis\\\\Notebooks\\\\wec_data_clean.csv', index=False)"
   ]
  },
  {
   "cell_type": "markdown",
   "metadata": {},
   "source": [
    "#### **Now that we don't have missing values, let's make some analysis on the tyre manufacturers**"
   ]
  },
  {
   "cell_type": "markdown",
   "metadata": {},
   "source": [
    "##### **Let's take a look at the performance of Michelin and Dunlop in 2017 for both LMGTE classes**"
   ]
  },
  {
   "cell_type": "code",
   "execution_count": 1240,
   "metadata": {},
   "outputs": [
    {
     "data": {
      "image/png": "[encoded data removed]",
      "text/plain": [
       "<Figure size 1000x600 with 2 Axes>"
      ]
     },
     "metadata": {},
     "output_type": "display_data"
    }
   ],
   "source": [
    "#average class position for the classes LMGTE Pro and LMGTE Am in the 2017 season with cars using either Dunlop or Michelin\n",
    "wec_analysis_2017_season = wec_analysis[(wec_analysis['season'] == '2017') & (wec_analysis['class'].isin(['LMGTE Pro', 'LMGTE Am']))]\n",
    "\n",
    "if not wec_analysis_2017_season.empty:\n",
    "    plt.figure(figsize=(10, 6))\n",
    "    plt.style.use('dark_background') \n",
    "    \n",
    "    plt.subplot(1, 2, 1)\n",
    "    sns.boxplot(x='tyres', y='class_position', data=wec_analysis_2017_season[wec_analysis_2017_season['class'] == 'LMGTE Pro'], palette=['white', '#CFEE37'])\n",
    "    plt.title('LMGTE Pro - Tyres vs. Average Class Position', loc='center')\n",
    "    plt.xlabel('Tyre Manufacturer')\n",
    "    plt.ylabel('Class Position')\n",
    "    \n",
    "    plt.subplot(1, 2, 2)\n",
    "    sns.boxplot(x='tyres', y='class_position', data=wec_analysis_2017_season[wec_analysis_2017_season['class'] == 'LMGTE Am'], palette=['white', '#CFEE37'])\n",
    "    plt.title('LMGTE Am - Tyres vs. Average Class Position', loc='center')\n",
    "    plt.xlabel('Tyre Manufacturer')\n",
    "    plt.ylabel('Class Position')\n",
    "    \n",
    "    plt.tight_layout()\n",
    "    plt.show()\n",
    "else:\n",
    "    print(\"No data points available for the season '2017' in LMGTE PRO and LMGTE AM classes.\")\n"
   ]
  },
  {
   "cell_type": "markdown",
   "metadata": {},
   "source": [
    "##### *We can see that in the Season 2017, Dunlop won only one race for the LMGTE Pro class while Michelin was vastly superior overall. In LMGTE Am, things were much closer, both tyre suppliers had a similiar season.*"
   ]
  },
  {
   "cell_type": "markdown",
   "metadata": {},
   "source": [
    "##### **Let's take a look at the number of race wins of Michelin and Dunlop in 2018-2019 for the LMP2 class**"
   ]
  },
  {
   "cell_type": "code",
   "execution_count": 1241,
   "metadata": {},
   "outputs": [
    {
     "data": {
      "image/png": "[encoded data removed]",
      "text/plain": [
       "<Figure size 1000x600 with 1 Axes>"
      ]
     },
     "metadata": {},
     "output_type": "display_data"
    }
   ],
   "source": [
    "#class wins for the LMP2 class in the 2018-2019 season with cars using either Dunlop or Michelin\n",
    "wec_analysis_2018_2019_season = wec_analysis[(wec_analysis['season'].isin(['2018-2019'])) & (wec_analysis['class'] == 'LMP2') & (wec_analysis['class_position'] == 1)]\n",
    "\n",
    "if not wec_analysis_2018_2019_season.empty:\n",
    "    plt.figure(figsize=(10, 6))\n",
    "    \n",
    "    plt.subplot(1, 2, 1)\n",
    "    sns.countplot(x='tyres', data=wec_analysis_2018_2019_season, palette=['#CFEE37', 'white'])\n",
    "    plt.xlabel('Tyre Manufacturer')\n",
    "    plt.ylabel('Number of wins')\n",
    "    plt.title('Number of wins by tyre manufacturer in LMP2 (2018-2019)')\n",
    "    \n",
    "    ax = plt.gca()\n",
    "    for p in ax.patches:\n",
    "        ax.annotate(f'{p.get_height()}', (p.get_x() + p.get_width() / 2., p.get_height()), ha='center', va='center', xytext=(0, 10), textcoords='offset points')\n",
    "    \n",
    "    plt.tight_layout()\n",
    "    plt.show()\n",
    "else:\n",
    "    print(\"No data points available for the '2018-2019' season in LMP2 class with Class Position = 1.\")"
   ]
  },
  {
   "cell_type": "markdown",
   "metadata": {},
   "source": [
    "##### *We can see that in the Season 2018-2019, Dunlop won 6 races compared to Michelin's 2 in the LMP2 class*"
   ]
  },
  {
   "cell_type": "markdown",
   "metadata": {},
   "source": [
    "##### **Here we gather the total number of times each tyre manufacturer participated in a class on all seasons**"
   ]
  },
  {
   "cell_type": "code",
   "execution_count": 1242,
   "metadata": {},
   "outputs": [
    {
     "name": "stdout",
     "output_type": "stream",
     "text": [
      "season     tyres   \n",
      "2011       Dunlop      1\n",
      "           Hankook     1\n",
      "           Michelin    1\n",
      "2012       Dunlop      8\n",
      "           Michelin    8\n",
      "           Pirelli     8\n",
      "2013       Dunlop      8\n",
      "           Michelin    8\n",
      "2014       Dunlop      8\n",
      "           Michelin    8\n",
      "2015       Dunlop      8\n",
      "           Michelin    8\n",
      "2016       Dunlop      9\n",
      "           Michelin    9\n",
      "2017       Dunlop      9\n",
      "           Michelin    9\n",
      "2018-2019  Dunlop      8\n",
      "           Michelin    8\n",
      "2019-2020  Goodyear    7\n",
      "           Michelin    7\n",
      "2021       Goodyear    6\n",
      "           Michelin    6\n",
      "2022       Goodyear    6\n",
      "           Michelin    6\n",
      "2023       Goodyear    7\n",
      "           Michelin    7\n",
      "Name: race, dtype: int64\n"
     ]
    }
   ],
   "source": [
    "#number of races each tyre manufacturer participated in a season\n",
    "manufacturer_race_count = wec_analysis.groupby(['season', 'tyres'])['race'].nunique()\n",
    "\n",
    "print(manufacturer_race_count)"
   ]
  },
  {
   "cell_type": "code",
   "execution_count": 1243,
   "metadata": {},
   "outputs": [
    {
     "name": "stdout",
     "output_type": "stream",
     "text": [
      "season     tyres   \n",
      "2011       Dunlop       4\n",
      "           Hankook      1\n",
      "           Michelin     4\n",
      "2012       Dunlop      32\n",
      "           Michelin    32\n",
      "           Pirelli      8\n",
      "2013       Dunlop      16\n",
      "           Michelin    32\n",
      "2014       Dunlop       8\n",
      "           Michelin    40\n",
      "2015       Dunlop      16\n",
      "           Michelin    32\n",
      "2016       Dunlop      36\n",
      "           Michelin    45\n",
      "2017       Dunlop      27\n",
      "           Michelin    36\n",
      "2018-2019  Dunlop       8\n",
      "           Michelin    32\n",
      "2019-2020  Goodyear     7\n",
      "           Michelin    28\n",
      "2021       Goodyear    12\n",
      "           Michelin    18\n",
      "2022       Goodyear     6\n",
      "           Michelin    18\n",
      "2023       Goodyear    14\n",
      "           Michelin    14\n",
      "dtype: int64\n"
     ]
    }
   ],
   "source": [
    "#total number of classes each tyre manufacturer participated in a season\n",
    "manufacturer_class_count = wec_analysis.groupby(['season', 'tyres'])['class'].nunique() * wec_analysis.groupby(['season', 'tyres'])['race'].nunique()\n",
    "\n",
    "print(manufacturer_class_count)"
   ]
  },
  {
   "cell_type": "code",
   "execution_count": 1244,
   "metadata": {},
   "outputs": [
    {
     "name": "stdout",
     "output_type": "stream",
     "text": [
      "tyres\n",
      "Dunlop      147\n",
      "Goodyear     39\n",
      "Hankook       1\n",
      "Michelin    331\n",
      "Pirelli       8\n",
      "dtype: int64\n"
     ]
    }
   ],
   "source": [
    "#total number of classes each tyre manufacturer participated in every season\n",
    "manufacturer_class_sum = manufacturer_class_count.groupby('tyres').sum()\n",
    "\n",
    "print(manufacturer_class_sum)"
   ]
  },
  {
   "cell_type": "code",
   "execution_count": 1245,
   "metadata": {},
   "outputs": [
    {
     "data": {
      "image/png": "[encoded data removed]",
      "text/plain": [
       "<Figure size 1000x600 with 1 Axes>"
      ]
     },
     "metadata": {},
     "output_type": "display_data"
    }
   ],
   "source": [
    "#creating the plot to show in a visual way\n",
    "plt.style.use('dark_background') \n",
    "\n",
    "colors = ['#CFEE37', '#3333FF', '#FFA500', '#FFFFFF', '#8B166C']  # Define colors for each bar\n",
    "\n",
    "plt.figure(figsize=(10, 6))\n",
    "manufacturer_class_sum.plot(kind='bar', color=colors)\n",
    "\n",
    "for i, value in enumerate(manufacturer_class_sum):\n",
    "    plt.text(i, value, str(value), ha='center', va='bottom')\n",
    "\n",
    "plt.xlabel('Tyre Manufacturer')\n",
    "plt.xticks(rotation=0)\n",
    "plt.ylabel('Total number of potential class wins')\n",
    "plt.title('Number of potential class wins by Tyre Manufacturer')\n",
    "plt.show()"
   ]
  },
  {
   "cell_type": "markdown",
   "metadata": {},
   "source": [
    "##### *This will give us an indicator of the number of potential class wins by each tyre manufacturer on all seasons combined*"
   ]
  },
  {
   "cell_type": "markdown",
   "metadata": {},
   "source": [
    "##### **Now let's see the number of race wins of all classes and seasons for all tyre manufacturers**"
   ]
  },
  {
   "cell_type": "code",
   "execution_count": 1246,
   "metadata": {},
   "outputs": [
    {
     "data": {
      "image/png": "[encoded data removed]",
      "text/plain": [
       "<Figure size 1000x600 with 1 Axes>"
      ]
     },
     "metadata": {},
     "output_type": "display_data"
    }
   ],
   "source": [
    "#class wins for all classes in all seasons for all tyre manufacturers\n",
    "wec_analysis_all_seasons_classes = wec_analysis[wec_analysis['class_position'] == 1]\n",
    "\n",
    "if not wec_analysis_all_seasons_classes.empty:\n",
    "    plt.figure(figsize=(10, 6))\n",
    "    \n",
    "    ax = sns.countplot(x='tyres', data=wec_analysis_all_seasons_classes, palette=['white','#CFEE37', '#3333FF'])\n",
    "    for p in ax.patches:\n",
    "        ax.annotate(format(p.get_height(), '.0f'), (p.get_x() + p.get_width() / 2., p.get_height()), ha='center', va='center', xytext=(0, 10), textcoords='offset points')\n",
    "    \n",
    "    plt.xlabel('Tyre Manufacturer')\n",
    "    plt.ylabel('Number of Class Wins')\n",
    "    plt.title('Number of class wins by tyre manufacturer for all Seasons and Classes')\n",
    "    \n",
    "    plt.show()\n",
    "else:\n",
    "    print(\"No data points available for Class Position = 1 across all seasons and classes.\")"
   ]
  },
  {
   "cell_type": "markdown",
   "metadata": {},
   "source": [
    "##### *We can see that Michelin is by far the most dominant tyre supplier with almost 250 class wins, followed by Dunlop and Goodyear. Pirelli and Hankook never won a race at the time of this analysis*"
   ]
  },
  {
   "cell_type": "markdown",
   "metadata": {},
   "source": [
    "##### **Now we see the percentage of wins by each tyre manufacturer in all seasons and classes**"
   ]
  },
  {
   "cell_type": "code",
   "execution_count": 1247,
   "metadata": {},
   "outputs": [],
   "source": [
    "class_position_1_by_manufacturer = wec_analysis[wec_analysis['class_position'] == 1]['tyres'].value_counts()"
   ]
  },
  {
   "cell_type": "code",
   "execution_count": 1248,
   "metadata": {},
   "outputs": [
    {
     "data": {
      "text/plain": [
       "tyres\n",
       "Dunlop      46.938776\n",
       "Goodyear    61.538462\n",
       "Michelin    75.226586\n",
       "dtype: float64"
      ]
     },
     "execution_count": 1248,
     "metadata": {},
     "output_type": "execute_result"
    }
   ],
   "source": [
    "percentage_of_wins = class_position_1_by_manufacturer/manufacturer_class_sum * 100\n",
    "percentage_of_wins = percentage_of_wins.dropna()\n",
    "percentage_of_wins"
   ]
  },
  {
   "cell_type": "code",
   "execution_count": 1249,
   "metadata": {},
   "outputs": [
    {
     "data": {
      "image/png": "[encoded data removed]",
      "text/plain": [
       "<Figure size 1000x600 with 1 Axes>"
      ]
     },
     "metadata": {},
     "output_type": "display_data"
    }
   ],
   "source": [
    "#winrateby each tyre manufacturer in all seasons and classes\n",
    "\n",
    "colors = ['#CFEE37', '#3333FF', '#FFFFFF']  # Define colors for each bar\n",
    "\n",
    "plt.figure(figsize=(10, 6))\n",
    "plt.bar(percentage_of_wins.index, percentage_of_wins.values, color=colors)\n",
    "plt.title('Percentage of Wins by Tyre Manufacturer')\n",
    "plt.xlabel('Tyre Manufacturer')\n",
    "plt.ylabel('Percentage')\n",
    "\n",
    "for i, value in enumerate(percentage_of_wins.values):\n",
    "    plt.text(i, value, f'{value:.2f}%', ha='center', va='bottom')\n",
    "\n",
    "plt.show()"
   ]
  },
  {
   "cell_type": "markdown",
   "metadata": {},
   "source": [
    "##### *Michelin has the most number of class wins and the highest percentage, but despite Dunlop having a much higher number of wins than Goodyear, the latter actually had better succes*"
   ]
  },
  {
   "cell_type": "markdown",
   "metadata": {},
   "source": [
    "#### **Comparing data between cars**"
   ]
  },
  {
   "cell_type": "markdown",
   "metadata": {},
   "source": [
    "##### **Let's compare the performance of Toyota cars**"
   ]
  },
  {
   "cell_type": "code",
   "execution_count": null,
   "metadata": {},
   "outputs": [],
   "source": []
  },
  {
   "cell_type": "code",
   "execution_count": null,
   "metadata": {},
   "outputs": [],
   "source": []
  }
 ],
 "metadata": {
  "kernelspec": {
   "display_name": "base",
   "language": "python",
   "name": "python3"
  },
  "language_info": {
   "codemirror_mode": {
    "name": "ipython",
    "version": 3
   },
   "file_extension": ".py",
   "mimetype": "text/x-python",
   "name": "python",
   "nbconvert_exporter": "python",
   "pygments_lexer": "ipython3",
   "version": "3.9.13"
  }
 },
 "nbformat": 4,
 "nbformat_minor": 2
}
